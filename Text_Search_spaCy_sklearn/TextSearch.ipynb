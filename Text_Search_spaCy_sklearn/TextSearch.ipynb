{
 "cells": [
  {
   "cell_type": "markdown",
   "id": "d5cb221b-5be2-46f5-b918-1b0d474fe808",
   "metadata": {},
   "source": [
    "# Text processing using spaCy library"
   ]
  },
  {
   "cell_type": "markdown",
   "id": "d5f40102-380f-427c-a9f2-ee22d9a7e6b3",
   "metadata": {},
   "source": [
    "## Setup"
   ]
  },
  {
   "cell_type": "code",
   "execution_count": 1,
   "id": "5becef67-2084-4865-887b-e54bdc849add",
   "metadata": {},
   "outputs": [],
   "source": [
    "import json\n",
    "from typing import List\n",
    "import spacy\n",
    "nlp = spacy.load(\"en_core_web_sm\")"
   ]
  },
  {
   "cell_type": "markdown",
   "id": "9141f337-2080-4fa9-afc6-45b7667bdd7a",
   "metadata": {},
   "source": [
    "## Open data"
   ]
  },
  {
   "cell_type": "code",
   "execution_count": 2,
   "id": "290d6872-18c9-4f04-8cba-b99d5e816560",
   "metadata": {},
   "outputs": [],
   "source": [
    "with open(\"data.json\", \"r\") as read_file:\n",
    "    CDC_data = json.load(read_file)"
   ]
  },
  {
   "cell_type": "markdown",
   "id": "b7e63fe2-5177-4bf6-818d-0e7817718a61",
   "metadata": {},
   "source": [
    "## Text lemmatization functions"
   ]
  },
  {
   "cell_type": "code",
   "execution_count": 3,
   "id": "614dff06-3a6b-4d69-840a-7f5ea055ee49",
   "metadata": {},
   "outputs": [],
   "source": [
    "def tokenize_string(text: str) -> List[str]:\n",
    "    \"\"\"Function that cleans up tokenizes a string, i.e. transform to lowercase and remove punctuation, spaces, symbols\n",
    "    and lemmas unclassified by spaCy. Requires a spaCy model loaded as nlp.\n",
    "    \n",
    "    Args:\n",
    "        text: Input text to tekenize.\n",
    "    \n",
    "    Returns:\n",
    "        clean_tokens: List of clean and informative tokens.   \n",
    "    \"\"\"  \n",
    "    doc = nlp(text.lower())\n",
    "    clean_tokens = [token.lemma_ for token in doc if (token.pos_ not in ['PUNCT', 'SPACE', 'SYM', 'X']) and (not token.is_stop)]\n",
    "    return clean_tokens"
   ]
  },
  {
   "cell_type": "code",
   "execution_count": 4,
   "id": "16d9c04e-c7c0-45e9-8743-7bcfa6fac05b",
   "metadata": {},
   "outputs": [],
   "source": [
    "def add_tokens(article: dict) -> dict:\n",
    "    \"\"\"Add a tokenized_text field to a Wikipedia article dictionary containing a text field.\"\"\"\n",
    "    article['tokenized_text'] = tokenize_string(article['text'])\n",
    "    return article"
   ]
  },
  {
   "cell_type": "code",
   "execution_count": 5,
   "id": "de41de86-44b3-4090-906c-9203562e44e3",
   "metadata": {},
   "outputs": [],
   "source": [
    "def tokenize(corpus: List[dict]) -> List[dict]:\n",
    "    \"\"\"Add tokenized_text field to a list of dictionaries encoding Wikipedia articles.\"\"\"\n",
    "    for _, article in enumerate(corpus):\n",
    "        article = add_tokens(article)\n",
    "    return corpus"
   ]
  },
  {
   "cell_type": "code",
   "execution_count": 6,
   "id": "c0f336f5-4823-4eec-94aa-2c6ff3d7bd55",
   "metadata": {},
   "outputs": [],
   "source": [
    "tokenized_CDC = tokenize(CDC_data)"
   ]
  },
  {
   "cell_type": "code",
   "execution_count": 7,
   "id": "0ae0afa1-1216-4ebf-bd93-e3cb1463596b",
   "metadata": {},
   "outputs": [
    {
     "data": {
      "text/plain": [
       "{'title': 'Antonine Plague',\n",
       " 'text': 'The Antonine Plague of 165 to 180 AD, also known as the Plague of Galen (after Galen, the physician who described it), was an ancient pandemic brought to the Roman Empire by troops who were returning from campaigns in the Near East. Scholars have suspected it to have been either smallpox or measles. The plague may have claimed the life of a Roman emperor, Lucius Verus, who died in 169 and was the co-regent of Marcus Aurelius Antoninus, whose family name, Antoninus, has become associated with the pandemic. \\nAncient sources agree that the plague appeared first during the Roman siege of the Mesopotamian city Seleucia in the winter of 165–166. Ammianus Marcellinus reported that the plague spread to Gaul and to the legions along the Rhine. Eutropius stated that a large population died throughout the empire. According to the contemporary Roman historian Cassius Dio, the disease broke out again nine years later in 189 AD and caused up to 2,000 deaths a day in Rome, one quarter of those who were affected. The total death count has been estimated at 5 million, and the disease killed as much as one third of the population in some areas and devastated the Roman army.Australian sinologist and historian Rafe de Crespigny speculates that the plague may have also broken out in Eastern Han China before 166 because of notices of plagues in Chinese records. The plague affected Roman culture and literature and may have severely affected Indo-Roman trade relations in the Indian Ocean.',\n",
       " 'url': 'https://en.wikipedia.org/wiki/Antonine_Plague',\n",
       " 'tokenized_text': ['antonine',\n",
       "  'plague',\n",
       "  '165',\n",
       "  '180',\n",
       "  'ad',\n",
       "  'know',\n",
       "  'plague',\n",
       "  'galen',\n",
       "  'galen',\n",
       "  'physician',\n",
       "  'describe',\n",
       "  'ancient',\n",
       "  'pandemic',\n",
       "  'bring',\n",
       "  'roman',\n",
       "  'empire',\n",
       "  'troop',\n",
       "  'return',\n",
       "  'campaign',\n",
       "  'near',\n",
       "  'east',\n",
       "  'scholar',\n",
       "  'suspect',\n",
       "  'smallpox',\n",
       "  'measle',\n",
       "  'plague',\n",
       "  'claim',\n",
       "  'life',\n",
       "  'roman',\n",
       "  'emperor',\n",
       "  'lucius',\n",
       "  'verus',\n",
       "  'die',\n",
       "  '169',\n",
       "  'co',\n",
       "  '-',\n",
       "  'regent',\n",
       "  'marcus',\n",
       "  'aurelius',\n",
       "  'antoninus',\n",
       "  'family',\n",
       "  'antoninus',\n",
       "  'associate',\n",
       "  'pandemic',\n",
       "  'ancient',\n",
       "  'source',\n",
       "  'agree',\n",
       "  'plague',\n",
       "  'appear',\n",
       "  'roman',\n",
       "  'siege',\n",
       "  'mesopotamian',\n",
       "  'city',\n",
       "  'seleucia',\n",
       "  'winter',\n",
       "  '165–166',\n",
       "  'ammianus',\n",
       "  'marcellinus',\n",
       "  'report',\n",
       "  'plague',\n",
       "  'spread',\n",
       "  'gaul',\n",
       "  'legion',\n",
       "  'rhine',\n",
       "  'eutropius',\n",
       "  'state',\n",
       "  'large',\n",
       "  'population',\n",
       "  'die',\n",
       "  'empire',\n",
       "  'accord',\n",
       "  'contemporary',\n",
       "  'roman',\n",
       "  'historian',\n",
       "  'cassius',\n",
       "  'dio',\n",
       "  'disease',\n",
       "  'break',\n",
       "  'year',\n",
       "  'later',\n",
       "  '189',\n",
       "  'ad',\n",
       "  'cause',\n",
       "  '2,000',\n",
       "  'death',\n",
       "  'day',\n",
       "  'rome',\n",
       "  'quarter',\n",
       "  'affect',\n",
       "  'total',\n",
       "  'death',\n",
       "  'count',\n",
       "  'estimate',\n",
       "  '5',\n",
       "  'million',\n",
       "  'disease',\n",
       "  'kill',\n",
       "  'population',\n",
       "  'area',\n",
       "  'devastate',\n",
       "  'roman',\n",
       "  'army.australian',\n",
       "  'sinologist',\n",
       "  'historian',\n",
       "  'rafe',\n",
       "  'crespigny',\n",
       "  'speculate',\n",
       "  'plague',\n",
       "  'break',\n",
       "  'eastern',\n",
       "  'han',\n",
       "  'china',\n",
       "  '166',\n",
       "  'notice',\n",
       "  'plague',\n",
       "  'chinese',\n",
       "  'record',\n",
       "  'plague',\n",
       "  'affect',\n",
       "  'roman',\n",
       "  'culture',\n",
       "  'literature',\n",
       "  'severely',\n",
       "  'affect',\n",
       "  'indo',\n",
       "  'roman',\n",
       "  'trade',\n",
       "  'relation',\n",
       "  'indian',\n",
       "  'ocean']}"
      ]
     },
     "execution_count": 7,
     "metadata": {},
     "output_type": "execute_result"
    }
   ],
   "source": [
    "#xample of tokenized article\n",
    "tokenized_CDC[2]"
   ]
  },
  {
   "cell_type": "markdown",
   "id": "dcc27580-f825-4c57-87d8-d59b8361e0b5",
   "metadata": {},
   "source": [
    "## Save tokenized data to json"
   ]
  },
  {
   "cell_type": "code",
   "execution_count": 8,
   "id": "0eeb84b7-9fc0-408c-92f3-773254de4c71",
   "metadata": {},
   "outputs": [],
   "source": [
    "with open('tokenized_data.json', 'w') as out:\n",
    "    json.dump(tokenized_CDC, out)"
   ]
  }
 ],
 "metadata": {
  "kernelspec": {
   "display_name": "Python (NLP_project)",
   "language": "python",
   "name": "nlp_project"
  },
  "language_info": {
   "codemirror_mode": {
    "name": "ipython",
    "version": 3
   },
   "file_extension": ".py",
   "mimetype": "text/x-python",
   "name": "python",
   "nbconvert_exporter": "python",
   "pygments_lexer": "ipython3",
   "version": "3.8.13"
  }
 },
 "nbformat": 4,
 "nbformat_minor": 5
}
