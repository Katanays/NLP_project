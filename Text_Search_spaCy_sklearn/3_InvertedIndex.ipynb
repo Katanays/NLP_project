{
 "cells": [
  {
   "cell_type": "markdown",
   "id": "d0d91c04-5b65-4596-acaa-0d97f9c76842",
   "metadata": {},
   "source": [
    "# Inverted Index and Search"
   ]
  },
  {
   "cell_type": "markdown",
   "id": "a130e40e-5a6a-4b5f-8e4a-87cc9f035057",
   "metadata": {},
   "source": [
    "## Setup"
   ]
  },
  {
   "cell_type": "code",
   "execution_count": 1,
   "id": "f60a5848-4748-42a7-b69b-e62d6d64a8e1",
   "metadata": {},
   "outputs": [],
   "source": [
    "import json\n",
    "import numpy as np\n",
    "from sklearn.metrics.pairwise import cosine_similarity\n",
    "from collections import OrderedDict, Counter\n",
    "from typing import List\n",
    "import spacy\n",
    "nlp = spacy.load(\"en_core_web_sm\")"
   ]
  },
  {
   "cell_type": "markdown",
   "id": "fee2d735-b758-4d63-9dfa-da3a81410973",
   "metadata": {},
   "source": [
    "## Load vocabulary and corpus"
   ]
  },
  {
   "cell_type": "code",
   "execution_count": 2,
   "id": "e6946921-f9f2-4bcb-8e97-78dba68dc35a",
   "metadata": {},
   "outputs": [],
   "source": [
    "with open(\"vectorized_data.json\", \"r\") as read_file:\n",
    "    CDC_data = json.load(read_file)"
   ]
  },
  {
   "cell_type": "code",
   "execution_count": 3,
   "id": "06b6840d-6183-4fa0-89f9-c436ef37b139",
   "metadata": {},
   "outputs": [],
   "source": [
    "with open(\"CDC_vocabulary.json\", \"r\") as read_file:\n",
    "    CDC_vocabulary = json.load(read_file)"
   ]
  },
  {
   "cell_type": "markdown",
   "id": "ea7001ae-bf71-4252-92f4-3e99eca90556",
   "metadata": {},
   "source": [
    "## Build inverted index"
   ]
  },
  {
   "cell_type": "code",
   "execution_count": 4,
   "id": "13d20fe2-bc7f-4e29-bfdd-3d90bad185bb",
   "metadata": {},
   "outputs": [],
   "source": [
    "def build_inverted_index(vocabulary: list, corpus: List[dict]) -> 'OrderedDict[str, set]':\n",
    "    \"\"\"Build an inverted index for a given corpus with given vocabulary.\"\"\"\n",
    "    index_vector = OrderedDict((token, set()) for token in vocabulary)\n",
    "    for num, article in enumerate(corpus):\n",
    "        for key, value in article.get('tf_idf').items():\n",
    "            if value != 0:\n",
    "                index_vector[key].add(num)\n",
    "    return index_vector  "
   ]
  },
  {
   "cell_type": "code",
   "execution_count": 5,
   "id": "7602490a-e1d4-46f2-8c73-664bfbc3b827",
   "metadata": {},
   "outputs": [],
   "source": [
    "CDC_index_vector = build_inverted_index(vocabulary=CDC_vocabulary, corpus=CDC_data)"
   ]
  },
  {
   "cell_type": "code",
   "execution_count": 6,
   "id": "8ecd25f6-9c1c-48a9-a398-9e3cfb58c17b",
   "metadata": {},
   "outputs": [
    {
     "data": {
      "text/plain": [
       "{'disease': {0, 1, 2, 3, 5, 6, 8, 10, 11, 12, 13, 17, 18, 20, 22, 25},\n",
       " 'include': {0, 3, 5, 6, 8, 10, 12, 13, 15, 17, 20, 21, 25},\n",
       " 'pandemic': {0, 1, 2, 5, 6, 7, 10, 12, 13, 14, 15, 16, 17, 18, 19, 21, 23}}"
      ]
     },
     "execution_count": 6,
     "metadata": {},
     "output_type": "execute_result"
    }
   ],
   "source": [
    "#Example: index entries contained in more than 13 articles\n",
    "{key: value for key, value in CDC_index_vector.items() if len(value)>=13}"
   ]
  },
  {
   "cell_type": "markdown",
   "id": "3e05c28c-b3ec-402c-9083-74873b252e06",
   "metadata": {},
   "source": [
    "## Example queries"
   ]
  },
  {
   "cell_type": "code",
   "execution_count": 7,
   "id": "816633d4-cf0f-484b-8106-b095493ad3ae",
   "metadata": {},
   "outputs": [],
   "source": [
    "with open(\"example_queries.json\", \"r\") as read_file:\n",
    "    example_queries = json.load(read_file)"
   ]
  },
  {
   "cell_type": "code",
   "execution_count": 8,
   "id": "b40f9694-c76e-40a2-87ef-8cb26e440c51",
   "metadata": {},
   "outputs": [
    {
     "data": {
      "text/plain": [
       "['black death',\n",
       " 'zoonotic diseases',\n",
       " 'swine flu',\n",
       " 'cholera transmission',\n",
       " 'classification of viruses',\n",
       " 'economic impact of pandemics',\n",
       " 'pandemic prevention organizations',\n",
       " 'spread of infectious diseases',\n",
       " 'prevention of viral infections',\n",
       " 'common symptoms of coronavirus']"
      ]
     },
     "execution_count": 8,
     "metadata": {},
     "output_type": "execute_result"
    }
   ],
   "source": [
    "example_queries"
   ]
  },
  {
   "cell_type": "markdown",
   "id": "511bbb61-6e80-4d07-b230-fc3f7e14c427",
   "metadata": {},
   "source": [
    "## Tokenize function from milestone 1"
   ]
  },
  {
   "cell_type": "code",
   "execution_count": 9,
   "id": "d9b02b2d-48f2-49f2-8e8c-32959ed039e7",
   "metadata": {},
   "outputs": [],
   "source": [
    "def tokenize_string(text: str) -> List[str]:\n",
    "    \"\"\"Function that cleans up tokenizes a string, i.e. transform to lowercase and remove punctuation, spaces, symbols\n",
    "    and lemmas unclassified by spaCy. Requires a spaCy model loaded as nlp.\n",
    "    \n",
    "    Args:\n",
    "        text: Input text to tekenize.\n",
    "    \n",
    "    Returns:\n",
    "        clean_tokens: List of clean and informative tokens.   \n",
    "    \"\"\"  \n",
    "    doc = nlp(text.lower())\n",
    "    clean_tokens = [token.lemma_ for token in doc if (token.pos_ not in ['PUNCT', 'SPACE', 'SYM', 'X']) and (not token.is_stop)]\n",
    "    return clean_tokens "
   ]
  },
  {
   "cell_type": "code",
   "execution_count": 10,
   "id": "58f74bad-3d49-4254-ad01-eaf0ebdc973e",
   "metadata": {},
   "outputs": [
    {
     "data": {
      "text/plain": [
       "['black', 'death']"
      ]
     },
     "execution_count": 10,
     "metadata": {},
     "output_type": "execute_result"
    }
   ],
   "source": [
    "tokenize_string(example_queries[0])"
   ]
  },
  {
   "cell_type": "code",
   "execution_count": 11,
   "id": "49af129d-187e-4a18-93a0-760a6bf77137",
   "metadata": {},
   "outputs": [
    {
     "data": {
      "text/plain": [
       "['common', 'symptom', 'coronavirus']"
      ]
     },
     "execution_count": 11,
     "metadata": {},
     "output_type": "execute_result"
    }
   ],
   "source": [
    "tokenize_string(example_queries[9])"
   ]
  },
  {
   "cell_type": "markdown",
   "id": "571baa3b-a00c-400a-b56e-2706401a4fd5",
   "metadata": {},
   "source": [
    "## Compute TF_IDF for a token list (inspired from milestone 2)"
   ]
  },
  {
   "cell_type": "code",
   "execution_count": 12,
   "id": "ef81e4f9-5394-4c76-94bf-fb11f67f3a4c",
   "metadata": {},
   "outputs": [],
   "source": [
    "def compute_TF(*, vocabulary: list, tokenized_text: List[str]) -> 'OrderedDict[str, float]':\n",
    "    \"\"\"Compute TF given a corpus vocabulary and a tokenized document, and return the document’s TF-vector.\n",
    "    Note: token that do not exist in the corpus vocabulary should not be taken into account.\"\"\"\n",
    "    counter = Counter([elem for elem in tokenized_text if elem in vocabulary])\n",
    "    normalizer = sum(counter.values())\n",
    "    TF_vector = OrderedDict((token, 0) for token in vocabulary)\n",
    "    for key, value in counter.items():\n",
    "        TF_vector[key] = value/normalizer\n",
    "    return TF_vector"
   ]
  },
  {
   "cell_type": "code",
   "execution_count": 13,
   "id": "7661ad72-2225-48e7-ba62-eb60fe2cc58f",
   "metadata": {},
   "outputs": [],
   "source": [
    "def compute_IDF(*, corpus: List[dict], vocabulary: list) -> 'OrderedDict[str, float]':\n",
    "    \"\"\"Compute DF for each word in the vocabulary given a corpus of tokenized texts.\"\"\"\n",
    "    IDF_vector = OrderedDict((token, 0) for token in vocabulary)\n",
    "    corpus_size = len(corpus)\n",
    "    for key in IDF_vector.keys():\n",
    "        for _, article in enumerate(corpus):\n",
    "            IDF_vector[key] += (key in article['tokenized_text'])\n",
    "        IDF_vector[key] = np.log(corpus_size/IDF_vector[key])      \n",
    "    return IDF_vector"
   ]
  },
  {
   "cell_type": "code",
   "execution_count": 14,
   "id": "c87a8ed0-c18c-4180-8cdd-cf0cd25f8f70",
   "metadata": {},
   "outputs": [],
   "source": [
    "def compute_TF_IDF_for_query(*, token_list: List[str], corpus: List[dict], vocabulary: list) -> 'OrderedDict[str, float]':\n",
    "    \"\"\"Given a token_list, a corpus and its vocabulary, compute TF_IDF vector for that token_list relative to the corpus vocabulary.\"\"\"\n",
    "    IDF_vector = compute_IDF(vocabulary=vocabulary, corpus=corpus)\n",
    "    query_tf_idf = compute_TF(vocabulary=vocabulary, tokenized_text=token_list)\n",
    "    query_tf_idf = OrderedDict({key: value*IDF_vector[key] for key, value in query_tf_idf.items()})\n",
    "    return query_tf_idf"
   ]
  },
  {
   "cell_type": "code",
   "execution_count": 15,
   "id": "1ca9bc23-5818-4db1-be93-0be03bd60a9a",
   "metadata": {},
   "outputs": [
    {
     "data": {
      "text/plain": [
       "{0.0, 0.6412373393653842, 0.8145241345053705}"
      ]
     },
     "execution_count": 15,
     "metadata": {},
     "output_type": "execute_result"
    }
   ],
   "source": [
    "test_query_tfidf = compute_TF_IDF_for_query(token_list=example_queries[0], vocabulary=CDC_vocabulary, corpus=CDC_data)\n",
    "set(test_query_tfidf.values())"
   ]
  },
  {
   "cell_type": "code",
   "execution_count": 16,
   "id": "7ac9c63d-b7aa-4f72-aa3f-e978dd1ecb5a",
   "metadata": {},
   "outputs": [
    {
     "data": {
      "text/plain": [
       "1484"
      ]
     },
     "execution_count": 16,
     "metadata": {},
     "output_type": "execute_result"
    }
   ],
   "source": [
    "len(test_query_tfidf)"
   ]
  },
  {
   "cell_type": "markdown",
   "id": "263443ba-1996-460e-ad22-d392aed9bb84",
   "metadata": {},
   "source": [
    "## Search function"
   ]
  },
  {
   "cell_type": "code",
   "execution_count": 17,
   "id": "67fbad15-0045-4b46-88eb-e6290385179e",
   "metadata": {},
   "outputs": [],
   "source": [
    "def reshape_tfidf(tfidf_dict: 'OrderedDict[str, float]') -> np.ndarray:\n",
    "    return np.array(list(tfidf_dict.values())).reshape(1, -1)"
   ]
  },
  {
   "cell_type": "code",
   "execution_count": 18,
   "id": "bc7ef8b0-e773-4ffa-9dec-04a3e17d0c3e",
   "metadata": {},
   "outputs": [],
   "source": [
    "def search_function(query_text: str, index_vector: 'OrderedDict[str, set]', corpus: List[dict], vocabulary: list) -> set:\n",
    "    \"\"\"Given a query text, search inverted index and return sorted search results.\"\"\"\n",
    "    query_token_list = tokenize_string(query_text)\n",
    "    query_tf_idf = compute_TF_IDF_for_query(token_list=query_token_list, corpus=corpus, vocabulary=vocabulary)\n",
    "    matching_articles = set(range(0, len(corpus)))\n",
    "    for _, token in enumerate(query_token_list):\n",
    "        print(f'token: {token}')\n",
    "        print(f'articles: {index_vector.get(token, set())}')\n",
    "        matching_articles = matching_articles.union(index_vector.get(token, set()))\n",
    "    matching_dictionary = {}\n",
    "    for article_id in matching_articles:\n",
    "        matching_dictionary[article_id] = (corpus[article_id].get('title'), cosine_similarity(reshape_tfidf(query_tf_idf), reshape_tfidf(corpus[article_id].get('tf_idf'))).item())\n",
    "    matching_dictionary  = dict(sorted(matching_dictionary .items(), key=lambda x: x[1][1], reverse=True))\n",
    "    return matching_dictionary "
   ]
  },
  {
   "cell_type": "markdown",
   "id": "964f809e-07a0-43a9-842c-bfd3ad38e62c",
   "metadata": {},
   "source": [
    "### Example queries"
   ]
  },
  {
   "cell_type": "code",
   "execution_count": 19,
   "id": "f99543b7-cf31-4e18-a4aa-8f30b1fef124",
   "metadata": {},
   "outputs": [
    {
     "name": "stdout",
     "output_type": "stream",
     "text": [
      "token: symptom\n",
      "articles: {10, 21, 5, 6}\n",
      "token: swine\n",
      "articles: {19, 21}\n",
      "token: flu\n",
      "articles: {0, 19, 21, 23}\n"
     ]
    },
    {
     "data": {
      "text/plain": [
       "{21: ('Swine influenza', 0.6034175738441063),\n",
       " 19: ('Spanish flu', 0.176017910117174),\n",
       " 10: ('HIV/AIDS', 0.062357191121067516),\n",
       " 5: ('Cholera', 0.05424748555959457),\n",
       " 0: ('Pandemic', 0.04173810259134081),\n",
       " 6: ('COVID-19 pandemic', 0.02627223421480461),\n",
       " 23: ('Unified Victim Identification System', 0.01987191057765038),\n",
       " 1: ('Epidemiology of HIV/AIDS', 0.0),\n",
       " 2: ('Antonine Plague', 0.0),\n",
       " 3: ('Basic reproduction number', 0.0),\n",
       " 4: ('Bills of mortality', 0.0),\n",
       " 7: ('Crimson Contagion', 0.0),\n",
       " 8: ('Disease X', 0.0),\n",
       " 9: ('Event 201', 0.0),\n",
       " 11: ('HIV/AIDS in Yunnan', 0.0),\n",
       " 12: ('Pandemic prevention', 0.0),\n",
       " 13: ('Pandemic Severity Assessment Framework', 0.0),\n",
       " 14: ('Pandemic severity index', 0.0),\n",
       " 15: ('Plague of Cyprian', 0.0),\n",
       " 16: ('PREDICT (USAID)', 0.0),\n",
       " 17: ('1929–1930 psittacosis pandemic', 0.0),\n",
       " 18: ('Science diplomacy and pandemics', 0.0),\n",
       " 20: ('Superspreader', 0.0),\n",
       " 22: ('Targeted immunization strategies', 0.0),\n",
       " 24: ('Viral load', 0.0),\n",
       " 25: ('Virus', 0.0)}"
      ]
     },
     "execution_count": 19,
     "metadata": {},
     "output_type": "execute_result"
    }
   ],
   "source": [
    "search_function(query_text=\"symptoms of swine flu\", index_vector=CDC_index_vector, corpus=CDC_data, vocabulary=CDC_vocabulary)"
   ]
  },
  {
   "cell_type": "code",
   "execution_count": 20,
   "id": "10f12479-3c62-48c6-bb89-73e7c295dbe9",
   "metadata": {},
   "outputs": [
    {
     "data": {
      "text/plain": [
       "'Swine influenza'"
      ]
     },
     "execution_count": 20,
     "metadata": {},
     "output_type": "execute_result"
    }
   ],
   "source": [
    "CDC_data[21].get('title')"
   ]
  },
  {
   "cell_type": "code",
   "execution_count": 21,
   "id": "14f579d0-5854-4b84-b9d5-34fa3fde8217",
   "metadata": {},
   "outputs": [
    {
     "name": "stdout",
     "output_type": "stream",
     "text": [
      "token: pandemic\n",
      "articles: {0, 1, 2, 5, 6, 7, 10, 12, 13, 14, 15, 16, 17, 18, 19, 21, 23}\n",
      "token: prevention\n",
      "articles: {10, 11, 12, 13}\n",
      "token: organization\n",
      "articles: {7, 8, 9, 12, 18, 21}\n"
     ]
    },
    {
     "data": {
      "text/plain": [
       "{12: ('Pandemic prevention', 0.3041589800078785),\n",
       " 10: ('HIV/AIDS', 0.09679149398950185),\n",
       " 9: ('Event 201', 0.0645795139378938),\n",
       " 13: ('Pandemic Severity Assessment Framework', 0.05938588132148788),\n",
       " 11: ('HIV/AIDS in Yunnan', 0.04635920332145792),\n",
       " 7: ('Crimson Contagion', 0.04617674320647011),\n",
       " 8: ('Disease X', 0.035136725807399724),\n",
       " 18: ('Science diplomacy and pandemics', 0.026848880940320015),\n",
       " 0: ('Pandemic', 0.022972322447226474),\n",
       " 21: ('Swine influenza', 0.022347937551331895),\n",
       " 19: ('Spanish flu', 0.015811437475675677),\n",
       " 14: ('Pandemic severity index', 0.01265838869003447),\n",
       " 6: ('COVID-19 pandemic', 0.008262874561963156),\n",
       " 15: ('Plague of Cyprian', 0.006859504249888185),\n",
       " 16: ('PREDICT (USAID)', 0.006792123716773705),\n",
       " 2: ('Antonine Plague', 0.003730765589772143),\n",
       " 17: ('1929–1930 psittacosis pandemic', 0.0036260536629245223),\n",
       " 1: ('Epidemiology of HIV/AIDS', 0.001989268044455747),\n",
       " 23: ('Unified Victim Identification System', 0.0015624775482279542),\n",
       " 5: ('Cholera', 0.0014217803886794767),\n",
       " 3: ('Basic reproduction number', 0.0),\n",
       " 4: ('Bills of mortality', 0.0),\n",
       " 20: ('Superspreader', 0.0),\n",
       " 22: ('Targeted immunization strategies', 0.0),\n",
       " 24: ('Viral load', 0.0),\n",
       " 25: ('Virus', 0.0)}"
      ]
     },
     "execution_count": 21,
     "metadata": {},
     "output_type": "execute_result"
    }
   ],
   "source": [
    "search_function(query_text='pandemic prevention organizations', index_vector=CDC_index_vector, corpus=CDC_data, vocabulary=CDC_vocabulary)"
   ]
  },
  {
   "cell_type": "code",
   "execution_count": 22,
   "id": "2b6d3c81-5c25-44c7-8c8c-c0841b23bdab",
   "metadata": {},
   "outputs": [
    {
     "data": {
      "text/plain": [
       "'Pandemic prevention is the organization and management of preventive measures against pandemics. Those include measures to reduce causes of new infectious diseases and measures to prevent outbreaks and epidemics from becoming pandemics.\\nIt is not to be mistaken for pandemic preparedness or pandemic mitigation which largely seek to mitigate the magnitude of negative effects of pandemics and may overlap with pandemic prevention in some respects.'"
      ]
     },
     "execution_count": 22,
     "metadata": {},
     "output_type": "execute_result"
    }
   ],
   "source": [
    "CDC_data[12].get('text')"
   ]
  },
  {
   "cell_type": "code",
   "execution_count": 23,
   "id": "320deb0d-4232-4612-b37e-e6c4b89a4a5c",
   "metadata": {},
   "outputs": [
    {
     "name": "stdout",
     "output_type": "stream",
     "text": [
      "Example query 0: black death\n",
      "token: black\n",
      "articles: {0}\n",
      "token: death\n",
      "articles: {0, 1, 2, 4, 5, 6, 10, 13, 17, 19, 21}\n",
      "All matching articles: {0: ('Pandemic', 0.14796495667829496), 5: ('Cholera', 0.016709067271053694), 1: ('Epidemiology of HIV/AIDS', 0.011689151798555933), 2: ('Antonine Plague', 0.010961188821491111), 19: ('Spanish flu', 0.010323299752928604), 10: ('HIV/AIDS', 0.009603491208189157), 17: ('1929–1930 psittacosis pandemic', 0.007102359720328011), 13: ('Pandemic Severity Assessment Framework', 0.006365984145465946), 6: ('COVID-19 pandemic', 0.006069191838953452), 4: ('Bills of mortality', 0.005639229448548818), 21: ('Swine influenza', 0.004403582274724383), 3: ('Basic reproduction number', 0.0), 7: ('Crimson Contagion', 0.0), 8: ('Disease X', 0.0), 9: ('Event 201', 0.0), 11: ('HIV/AIDS in Yunnan', 0.0), 12: ('Pandemic prevention', 0.0), 14: ('Pandemic severity index', 0.0), 15: ('Plague of Cyprian', 0.0), 16: ('PREDICT (USAID)', 0.0), 18: ('Science diplomacy and pandemics', 0.0), 20: ('Superspreader', 0.0), 22: ('Targeted immunization strategies', 0.0), 23: ('Unified Victim Identification System', 0.0), 24: ('Viral load', 0.0), 25: ('Virus', 0.0)}\n",
      "\n",
      "Example query 1: zoonotic diseases\n",
      "token: zoonotic\n",
      "articles: {21}\n",
      "token: disease\n",
      "articles: {0, 1, 2, 3, 5, 6, 8, 10, 11, 12, 13, 17, 18, 20, 22, 25}\n",
      "All matching articles: {21: ('Swine influenza', 0.12924893922794575), 8: ('Disease X', 0.014122705438585287), 0: ('Pandemic', 0.012568457556974336), 10: ('HIV/AIDS', 0.010953492590762656), 5: ('Cholera', 0.00544512230230764), 12: ('Pandemic prevention', 0.0050447638816073104), 11: ('HIV/AIDS in Yunnan', 0.0045740435783881445), 18: ('Science diplomacy and pandemics', 0.0039822599782940865), 6: ('COVID-19 pandemic', 0.0039556357399457565), 22: ('Targeted immunization strategies', 0.003706072588836711), 2: ('Antonine Plague', 0.0035720134908489493), 20: ('Superspreader', 0.0025836431493617756), 17: ('1929–1930 psittacosis pandemic', 0.002314504854449049), 3: ('Basic reproduction number', 0.0021971658371414703), 13: ('Pandemic Severity Assessment Framework', 0.0020745360398819876), 25: ('Virus', 0.0010796677032275416), 1: ('Epidemiology of HIV/AIDS', 0.0009523102056037535), 4: ('Bills of mortality', 0.0), 7: ('Crimson Contagion', 0.0), 9: ('Event 201', 0.0), 14: ('Pandemic severity index', 0.0), 15: ('Plague of Cyprian', 0.0), 16: ('PREDICT (USAID)', 0.0), 19: ('Spanish flu', 0.0), 23: ('Unified Victim Identification System', 0.0), 24: ('Viral load', 0.0)}\n",
      "\n",
      "Example query 2: swine flu\n",
      "token: swine\n",
      "articles: {19, 21}\n",
      "token: flu\n",
      "articles: {0, 19, 21, 23}\n",
      "All matching articles: {21: ('Swine influenza', 0.678329095563337), 19: ('Spanish flu', 0.20432440302090174), 0: ('Pandemic', 0.048450256508123256), 23: ('Unified Victim Identification System', 0.02306763137319509), 1: ('Epidemiology of HIV/AIDS', 0.0), 2: ('Antonine Plague', 0.0), 3: ('Basic reproduction number', 0.0), 4: ('Bills of mortality', 0.0), 5: ('Cholera', 0.0), 6: ('COVID-19 pandemic', 0.0), 7: ('Crimson Contagion', 0.0), 8: ('Disease X', 0.0), 9: ('Event 201', 0.0), 10: ('HIV/AIDS', 0.0), 11: ('HIV/AIDS in Yunnan', 0.0), 12: ('Pandemic prevention', 0.0), 13: ('Pandemic Severity Assessment Framework', 0.0), 14: ('Pandemic severity index', 0.0), 15: ('Plague of Cyprian', 0.0), 16: ('PREDICT (USAID)', 0.0), 17: ('1929–1930 psittacosis pandemic', 0.0), 18: ('Science diplomacy and pandemics', 0.0), 20: ('Superspreader', 0.0), 22: ('Targeted immunization strategies', 0.0), 24: ('Viral load', 0.0), 25: ('Virus', 0.0)}\n",
      "\n",
      "Example query 3: cholera transmission\n",
      "token: cholera\n",
      "articles: {5}\n",
      "token: transmission\n",
      "articles: {3, 11, 17, 20, 21, 25}\n",
      "All matching articles: {5: ('Cholera', 0.4521578015621587), 21: ('Swine influenza', 0.04827404179785641), 20: ('Superspreader', 0.04345649040237972), 11: ('HIV/AIDS in Yunnan', 0.019233681798644733), 17: ('1929–1930 psittacosis pandemic', 0.0097324061585742), 25: ('Virus', 0.00907992444596249), 3: ('Basic reproduction number', 0.0061593333260026705), 0: ('Pandemic', 0.0), 1: ('Epidemiology of HIV/AIDS', 0.0), 2: ('Antonine Plague', 0.0), 4: ('Bills of mortality', 0.0), 6: ('COVID-19 pandemic', 0.0), 7: ('Crimson Contagion', 0.0), 8: ('Disease X', 0.0), 9: ('Event 201', 0.0), 10: ('HIV/AIDS', 0.0), 12: ('Pandemic prevention', 0.0), 13: ('Pandemic Severity Assessment Framework', 0.0), 14: ('Pandemic severity index', 0.0), 15: ('Plague of Cyprian', 0.0), 16: ('PREDICT (USAID)', 0.0), 18: ('Science diplomacy and pandemics', 0.0), 19: ('Spanish flu', 0.0), 22: ('Targeted immunization strategies', 0.0), 23: ('Unified Victim Identification System', 0.0), 24: ('Viral load', 0.0)}\n",
      "\n",
      "Example query 4: classification of viruses\n",
      "token: classification\n",
      "articles: {14}\n",
      "token: virus\n",
      "articles: {1, 6, 7, 8, 10, 11, 15, 19, 21, 24, 25}\n",
      "All matching articles: {14: ('Pandemic severity index', 0.26676931329343745), 25: ('Virus', 0.07951442461140351), 24: ('Viral load', 0.0274306465516196), 7: ('Crimson Contagion', 0.027296893159126326), 21: ('Swine influenza', 0.026421493648346294), 8: ('Disease X', 0.02600241707583946), 11: ('HIV/AIDS in Yunnan', 0.021054073060846182), 10: ('HIV/AIDS', 0.019206982416378315), 19: ('Spanish flu', 0.015484949629392905), 15: ('Plague of Cyprian', 0.010076795163836234), 6: ('COVID-19 pandemic', 0.006069191838953452), 1: ('Epidemiology of HIV/AIDS', 0.005844575899277967), 0: ('Pandemic', 0.0), 2: ('Antonine Plague', 0.0), 3: ('Basic reproduction number', 0.0), 4: ('Bills of mortality', 0.0), 5: ('Cholera', 0.0), 9: ('Event 201', 0.0), 12: ('Pandemic prevention', 0.0), 13: ('Pandemic Severity Assessment Framework', 0.0), 16: ('PREDICT (USAID)', 0.0), 17: ('1929–1930 psittacosis pandemic', 0.0), 18: ('Science diplomacy and pandemics', 0.0), 20: ('Superspreader', 0.0), 22: ('Targeted immunization strategies', 0.0), 23: ('Unified Victim Identification System', 0.0)}\n",
      "\n",
      "Example query 5: economic impact of pandemics\n",
      "token: economic\n",
      "articles: {10, 6}\n",
      "token: impact\n",
      "articles: {17, 10, 13}\n",
      "token: pandemic\n",
      "articles: {0, 1, 2, 5, 6, 7, 10, 12, 13, 14, 15, 16, 17, 18, 19, 21, 23}\n",
      "All matching articles: {10: ('HIV/AIDS', 0.10407877169064113), 6: ('COVID-19 pandemic', 0.05970708341250041), 13: ('Pandemic Severity Assessment Framework', 0.05238936926793178), 12: ('Pandemic prevention', 0.02635913476389483), 17: ('1929–1930 psittacosis pandemic', 0.024905643831678863), 0: ('Pandemic', 0.016417699336060177), 19: ('Spanish flu', 0.011300007961445728), 14: ('Pandemic severity index', 0.009046609025682623), 7: ('Crimson Contagion', 0.006639890504505611), 15: ('Plague of Cyprian', 0.004902302700469359), 16: ('PREDICT (USAID)', 0.004854147650568841), 21: ('Swine influenza', 0.003213476049596791), 2: ('Antonine Plague', 0.0026662775558242806), 18: ('Science diplomacy and pandemics', 0.0014862500419979248), 1: ('Epidemiology of HIV/AIDS', 0.0014216762248455163), 23: ('Unified Victim Identification System', 0.0011166605668661116), 5: ('Cholera', 0.0010161081012540212), 3: ('Basic reproduction number', 0.0), 4: ('Bills of mortality', 0.0), 8: ('Disease X', 0.0), 9: ('Event 201', 0.0), 11: ('HIV/AIDS in Yunnan', 0.0), 20: ('Superspreader', 0.0), 22: ('Targeted immunization strategies', 0.0), 24: ('Viral load', 0.0), 25: ('Virus', 0.0)}\n",
      "\n",
      "Example query 6: pandemic prevention organizations\n",
      "token: pandemic\n",
      "articles: {0, 1, 2, 5, 6, 7, 10, 12, 13, 14, 15, 16, 17, 18, 19, 21, 23}\n",
      "token: prevention\n",
      "articles: {10, 11, 12, 13}\n",
      "token: organization\n",
      "articles: {7, 8, 9, 12, 18, 21}\n",
      "All matching articles: {12: ('Pandemic prevention', 0.3041589800078785), 10: ('HIV/AIDS', 0.09679149398950185), 9: ('Event 201', 0.0645795139378938), 13: ('Pandemic Severity Assessment Framework', 0.05938588132148788), 11: ('HIV/AIDS in Yunnan', 0.04635920332145792), 7: ('Crimson Contagion', 0.04617674320647011), 8: ('Disease X', 0.035136725807399724), 18: ('Science diplomacy and pandemics', 0.026848880940320015), 0: ('Pandemic', 0.022972322447226474), 21: ('Swine influenza', 0.022347937551331895), 19: ('Spanish flu', 0.015811437475675677), 14: ('Pandemic severity index', 0.01265838869003447), 6: ('COVID-19 pandemic', 0.008262874561963156), 15: ('Plague of Cyprian', 0.006859504249888185), 16: ('PREDICT (USAID)', 0.006792123716773705), 2: ('Antonine Plague', 0.003730765589772143), 17: ('1929–1930 psittacosis pandemic', 0.0036260536629245223), 1: ('Epidemiology of HIV/AIDS', 0.001989268044455747), 23: ('Unified Victim Identification System', 0.0015624775482279542), 5: ('Cholera', 0.0014217803886794767), 3: ('Basic reproduction number', 0.0), 4: ('Bills of mortality', 0.0), 20: ('Superspreader', 0.0), 22: ('Targeted immunization strategies', 0.0), 24: ('Viral load', 0.0), 25: ('Virus', 0.0)}\n",
      "\n",
      "Example query 7: spread of infectious diseases\n",
      "token: spread\n",
      "articles: {0, 2, 3, 5, 7, 10, 11, 13, 17, 22, 25}\n",
      "token: infectious\n",
      "articles: {0, 3, 8, 12, 24, 25}\n",
      "token: disease\n",
      "articles: {0, 1, 2, 3, 5, 6, 8, 10, 11, 12, 13, 17, 18, 20, 22, 25}\n",
      "All matching articles: {0: ('Pandemic', 0.11357269726955746), 12: ('Pandemic prevention', 0.09513617229067858), 8: ('Disease X', 0.07431669751345285), 24: ('Viral load', 0.0607685061722807), 25: ('Virus', 0.05133932071989624), 11: ('HIV/AIDS in Yunnan', 0.03527443529883259), 3: ('Basic reproduction number', 0.03367489837460542), 10: ('HIV/AIDS', 0.029560154047929423), 22: ('Targeted immunization strategies', 0.028580754753929474), 5: ('Cholera', 0.0181069020629901), 7: ('Crimson Contagion', 0.017342312867830962), 2: ('Antonine Plague', 0.017101083981615393), 13: ('Pandemic Severity Assessment Framework', 0.015998554902203383), 17: ('1929–1930 psittacosis pandemic', 0.011080736954994733), 18: ('Science diplomacy and pandemics', 0.0074196176702159364), 6: ('COVID-19 pandemic', 0.00737001225259327), 20: ('Superspreader', 0.0048137601434924), 1: ('Epidemiology of HIV/AIDS', 0.001774313497244699), 4: ('Bills of mortality', 0.0), 9: ('Event 201', 0.0), 14: ('Pandemic severity index', 0.0), 15: ('Plague of Cyprian', 0.0), 16: ('PREDICT (USAID)', 0.0), 19: ('Spanish flu', 0.0), 21: ('Swine influenza', 0.0), 23: ('Unified Victim Identification System', 0.0)}\n",
      "\n",
      "Example query 8: prevention of viral infections\n",
      "token: prevention\n",
      "articles: {10, 11, 12, 13}\n",
      "token: viral\n",
      "articles: {13, 15, 19, 20, 24, 25}\n",
      "token: infection\n",
      "articles: {1, 3, 5, 6, 10, 11, 18, 19, 20, 21, 24, 25}\n",
      "All matching articles: {24: ('Viral load', 0.3187098137449278), 12: ('Pandemic prevention', 0.1975765650422923), 10: ('HIV/AIDS', 0.13898233966920134), 13: ('Pandemic Severity Assessment Framework', 0.06555490351267204), 25: ('Virus', 0.0569620908689234), 11: ('HIV/AIDS in Yunnan', 0.0524268919813807), 20: ('Superspreader', 0.048314317804176575), 15: ('Plague of Cyprian', 0.039463007869073065), 19: ('Spanish flu', 0.02583450722159382), 3: ('Basic reproduction number', 0.01957711069158464), 1: ('Epidemiology of HIV/AIDS', 0.012727861952436229), 21: ('Swine influenza', 0.009589778326911828), 18: ('Science diplomacy and pandemics', 0.006652986464413756), 6: ('COVID-19 pandemic', 0.006608506521285422), 5: ('Cholera', 0.00454846308023425), 0: ('Pandemic', 0.0), 2: ('Antonine Plague', 0.0), 4: ('Bills of mortality', 0.0), 7: ('Crimson Contagion', 0.0), 8: ('Disease X', 0.0), 9: ('Event 201', 0.0), 14: ('Pandemic severity index', 0.0), 16: ('PREDICT (USAID)', 0.0), 17: ('1929–1930 psittacosis pandemic', 0.0), 22: ('Targeted immunization strategies', 0.0), 23: ('Unified Victim Identification System', 0.0)}\n",
      "\n"
     ]
    }
   ],
   "source": [
    "for num in range(0, 9):\n",
    "    print(f'Example query {num}: {example_queries[num]}')\n",
    "    print(f\"All matching articles: {search_function(query_text=example_queries[num], index_vector=CDC_index_vector, corpus=CDC_data, vocabulary=CDC_vocabulary)}\\n\")"
   ]
  },
  {
   "cell_type": "code",
   "execution_count": null,
   "id": "8d70963d-57de-4a8c-9ab9-6fbb6b4eb874",
   "metadata": {},
   "outputs": [],
   "source": []
  }
 ],
 "metadata": {
  "kernelspec": {
   "display_name": "Python (NLP_project)",
   "language": "python",
   "name": "nlp_project"
  },
  "language_info": {
   "codemirror_mode": {
    "name": "ipython",
    "version": 3
   },
   "file_extension": ".py",
   "mimetype": "text/x-python",
   "name": "python",
   "nbconvert_exporter": "python",
   "pygments_lexer": "ipython3",
   "version": "3.8.13"
  }
 },
 "nbformat": 4,
 "nbformat_minor": 5
}
